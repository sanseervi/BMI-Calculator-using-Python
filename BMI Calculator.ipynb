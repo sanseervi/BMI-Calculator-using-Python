{
 "cells": [
  {
   "cell_type": "code",
   "execution_count": 16,
   "metadata": {},
   "outputs": [
    {
     "name": "stdout",
     "output_type": "stream",
     "text": [
      "Please enter your name here: sandeep \n",
      "Whats your weight in kg : 66\n",
      "Whats your height in m : 1.8\n",
      "Your BMI is 20.37037037037037 hence you are body is normal\n"
     ]
    }
   ],
   "source": [
    "name=input(\"Please enter your name here: \")\n",
    "weight=float(input(\"Whats your weight in kg : \"))\n",
    "height=float(input(\"Whats your height in m : \"))\n",
    "bmi=weight/(height ** 2)\n",
    "if bmi<18.5:\n",
    "    print(\"Your BMI is \" + str(bmi) + \" hence you are body is underweight\")\n",
    "elif bmi>18.5 and bmi<25:\n",
    "    print(\"Your BMI is \" + str(bmi) + \" hence you are body is normal\")\n",
    "elif bmi>25 and bmi<30:\n",
    "    print(\"Your BMI is \" + str(bmi) + \" hence you are body is overweight\")\n",
    "elif bmi>30:\n",
    "    print(\"Your BMI is \" + str(bmi) + \" hence you are obese\")\n",
    "else:\n",
    "    print(\"INVALID INPUT\")"
   ]
  },
  {
   "cell_type": "code",
   "execution_count": null,
   "metadata": {},
   "outputs": [],
   "source": []
  }
 ],
 "metadata": {
  "kernelspec": {
   "display_name": "Python 3",
   "language": "python",
   "name": "python3"
  },
  "language_info": {
   "codemirror_mode": {
    "name": "ipython",
    "version": 3
   },
   "file_extension": ".py",
   "mimetype": "text/x-python",
   "name": "python",
   "nbconvert_exporter": "python",
   "pygments_lexer": "ipython3",
   "version": "3.7.6"
  }
 },
 "nbformat": 4,
 "nbformat_minor": 4
}
